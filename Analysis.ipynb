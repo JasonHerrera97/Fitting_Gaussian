{
 "cells": [
  {
   "cell_type": "code",
   "execution_count": 1,
   "id": "40a12967",
   "metadata": {},
   "outputs": [],
   "source": [
    "import likelihood\n"
   ]
  },
  {
   "cell_type": "code",
   "execution_count": null,
   "id": "fd696c49",
   "metadata": {},
   "outputs": [],
   "source": [
    "likelihood.likelihood()"
   ]
  }
 ],
 "metadata": {
  "kernelspec": {
   "display_name": "test",
   "language": "python",
   "name": "test"
  },
  "language_info": {
   "codemirror_mode": {
    "name": "ipython",
    "version": 3
   },
   "file_extension": ".py",
   "mimetype": "text/x-python",
   "name": "python",
   "nbconvert_exporter": "python",
   "pygments_lexer": "ipython3",
   "version": "3.10.9"
  }
 },
 "nbformat": 4,
 "nbformat_minor": 5
}
